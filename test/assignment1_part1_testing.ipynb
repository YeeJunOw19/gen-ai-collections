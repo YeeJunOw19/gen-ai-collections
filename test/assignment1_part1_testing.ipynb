{
 "cells": [
  {
   "metadata": {},
   "cell_type": "markdown",
   "source": [
    "## MLDS 424 GenAI: Assignment 1 Part 1\n",
    "\n",
    "The code below will serves as a test to the work done on vector database."
   ],
   "id": "1263b02b888eb162"
  },
  {
   "metadata": {},
   "cell_type": "markdown",
   "source": "### Setup Connections to Pinecone and MotherDuck",
   "id": "a8d9e9dc9386d39"
  },
  {
   "cell_type": "code",
   "id": "initial_id",
   "metadata": {
    "collapsed": true,
    "ExecuteTime": {
     "end_time": "2025-02-02T23:09:18.881963Z",
     "start_time": "2025-02-02T23:09:14.097602Z"
    }
   },
   "source": [
    "import polars as pl\n",
    "from sentence_transformers import SentenceTransformer\n",
    "from src.data_ingestion.mdutils import motherduck_setup\n",
    "from src.data_ingestion.pcutils import pinecone_setup\n",
    "\n",
    "# Get MotherDuck instance and Pinecone instance\n",
    "md = motherduck_setup.MotherDucking(\"mlds-database\", True)\n",
    "pc = pinecone_setup.PineconeInstance(\"news-index\", 768, \"aws\", \"us-east-1\", rebuild_index=False)\n",
    "pc_index = pc.pinecone_setup()"
   ],
   "outputs": [],
   "execution_count": 1
  },
  {
   "metadata": {},
   "cell_type": "markdown",
   "source": [
    "### Query Data from MotherDuck\n",
    "\n",
    "Query the last 10 rows of data (sort by index), from MotherDuck for testing purpose. Perform the same data cleaning and encoding strategies to encode these news headlines and short descriptions."
   ],
   "id": "2ce81725c94c1dc"
  },
  {
   "metadata": {
    "ExecuteTime": {
     "end_time": "2025-02-02T23:24:58.111651Z",
     "start_time": "2025-02-02T23:24:57.137938Z"
    }
   },
   "cell_type": "code",
   "source": [
    "# Query the bottom 10 rows of data from MotherDuck table\n",
    "query_string = 'SELECT * FROM \"gen-ai\".RawNewsCategory ORDER BY Id DESC LIMIT 10;'\n",
    "df = (\n",
    "    motherduck_setup.md_read_table(\n",
    "        duck_engine=md.duckdb_engine,\n",
    "        md_schema=\"gen-ai\",\n",
    "        md_table=\"RawNewsCategory\",\n",
    "        keep_columns=[\"Id\", \"NewsHeadline\", \"ShortDescription\", \"NewsDate\", \"NewsCategory\"],\n",
    "        custom_query=query_string\n",
    "    )\n",
    "    .with_columns(\n",
    "        pl.concat_str([pl.col(\"NewsHeadline\"), pl.col(\"ShortDescription\")], separator= \" \").alias(\"NewsDetails\")\n",
    "    )\n",
    "    .select(pl.exclude(\"NewsHeadline\", \"ShortDescription\"))\n",
    ")\n",
    "\n",
    "# Perform vector embeddings on test sentences\n",
    "text_list = df.collect().select(\"NewsDetails\").to_series().to_list()\n",
    "eb_model = SentenceTransformer(model_name_or_path=\"sentence-transformers/all-mpnet-base-v2\", device=\"mps\")\n",
    "embeddings = eb_model.encode(text_list, show_progress_bar=True)"
   ],
   "id": "386f75c529e1146b",
   "outputs": [
    {
     "data": {
      "text/plain": [
       "Batches:   0%|          | 0/1 [00:00<?, ?it/s]"
      ],
      "application/vnd.jupyter.widget-view+json": {
       "version_major": 2,
       "version_minor": 0,
       "model_id": "74dcc32a1b1a4747ae59e9b963a6d86e"
      }
     },
     "metadata": {},
     "output_type": "display_data"
    }
   ],
   "execution_count": 19
  },
  {
   "metadata": {},
   "cell_type": "markdown",
   "source": [
    "### Query Pinecone and Get Metadata\n",
    "\n",
    "Using the embeddings from prior chunk, query the top 3 most similar vectors from Pinecone database. Using the metadata returned from Pinecone, we can query the exact text from MotherDuck."
   ],
   "id": "20146cabf754fdb3"
  },
  {
   "metadata": {
    "ExecuteTime": {
     "end_time": "2025-02-02T23:25:12.280813Z",
     "start_time": "2025-02-02T23:25:10.289615Z"
    }
   },
   "cell_type": "code",
   "source": [
    "# Save Pinecone results in a list\n",
    "pinecone_results = []\n",
    "for embedding in embeddings:\n",
    "    results = pc.query_pinecone(pinecone_index=pc_index, vector_embedding=embedding.tolist(), top_n=3)\n",
    "    pinecone_results.append(results)\n",
    "\n",
    "# From each item in the list, create a list of queries to get data from MotherDuck\n",
    "queries = []\n",
    "for result in pinecone_results:\n",
    "    ids = [x[\"id\"] for x in result]\n",
    "    query_string = f\"\"\"SELECT * FROM \"gen-ai\".RawNewsCategory WHERE Id IN ({', '.join(f\"'{new_id}'\" for new_id in ids)})\"\"\"\n",
    "    queries.append(query_string)\n",
    "\n",
    "# Using these queries save the dataframes into a list\n",
    "dfs = []\n",
    "for query in queries:\n",
    "    query_df = (\n",
    "        motherduck_setup.md_read_table(\n",
    "            duck_engine=md.duckdb_engine,\n",
    "            md_schema=\"gen-ai\",\n",
    "            md_table=\"RawNewsCategory\",\n",
    "            keep_columns=[\"Id\", \"NewsHeadline\", \"ShortDescription\", \"NewsDate\", \"NewsCategory\"],\n",
    "            custom_query=query\n",
    "        )\n",
    "        .with_columns(\n",
    "            pl.concat_str([pl.col(\"NewsHeadline\"), pl.col(\"ShortDescription\")], separator= \" \").alias(\"NewsDetails\")\n",
    "        )\n",
    "        .select(pl.exclude(\"NewsHeadline\", \"ShortDescription\"))\n",
    "    )\n",
    "    dfs.append(query_df)"
   ],
   "id": "8a88586d1208621d",
   "outputs": [],
   "execution_count": 20
  },
  {
   "metadata": {
    "ExecuteTime": {
     "end_time": "2025-02-02T23:44:06.826434Z",
     "start_time": "2025-02-02T23:44:06.820678Z"
    }
   },
   "cell_type": "code",
   "source": [
    "# Loop through everything and print out results\n",
    "categories = df.collect().select(\"NewsCategory\").to_series().to_list()\n",
    "for idx, value in enumerate(text_list):\n",
    "    top_string = \"\"\n",
    "\n",
    "    data = dfs[idx].collect()\n",
    "    top_categories = data.select(\"NewsCategory\").to_series().to_list()\n",
    "    top_news = data.select(\"NewsDetails\").to_series().to_list()\n",
    "\n",
    "    for inner_idx, inner_value in enumerate(top_categories):\n",
    "        print_string = (\n",
    "            f\"\"\"\n",
    "            Top {inner_idx + 1} News Category: {inner_value}\n",
    "            Top {inner_idx + 1} News Details: {top_news[inner_idx]}\n",
    "            \"\"\"\n",
    "        )\n",
    "        top_string = top_string + print_string\n",
    "\n",
    "    print(\n",
    "        f\"\"\"\n",
    "        Requested News Category: {categories[idx]}\n",
    "        Requested News Details: {value}\n",
    "        ----------\n",
    "        {top_string}\n",
    "        \"\"\"\n",
    "    )"
   ],
   "id": "63a434b06b18ba1a",
   "outputs": [
    {
     "name": "stdout",
     "output_type": "stream",
     "text": [
      "\n",
      "        Requested News Category: SPORTS\n",
      "        Requested News Details: Dwight Howard Rips Teammates After Magic Loss To Hornets The five-time all-star center tore into his teammates Friday night after Orlando committed 23 turnovers en route to losing\n",
      "        ----------\n",
      "        \n",
      "            Top 1 News Category: SPORTS\n",
      "            Top 1 News Details: Dwight Howard Is Finished Masquerading As A Superstar \n",
      "            \n",
      "            Top 2 News Category: SPORTS\n",
      "            Top 2 News Details: Dwight Howard Responds To LeBron James' Full-Court Shot With One Of His Own Amazing.\n",
      "            \n",
      "            Top 3 News Category: SPORTS\n",
      "            Top 3 News Details: Kobe Bryant Has Every Right To Be Upset With Laker Teammates When Kobe Bryant talks, we listen. That's what five NBA titles and a league MVP gets you. As a result, it became national news when the 36-year-old Bryant was caught on camera going after his teammates for a lackluster effort during practice. \"Soft,\" he called them.\n",
      "            \n",
      "        \n",
      "\n",
      "        Requested News Category: SPORTS\n",
      "        Requested News Details: Aldon Smith Arrested: 49ers Linebacker Busted For DUI CORRECTION: An earlier version of this story incorrectly stated the location of KTVU and the 2011 league leader in sacks\n",
      "        ----------\n",
      "        \n",
      "            Top 1 News Category: SPORTS\n",
      "            Top 1 News Details: NFL Suspends Oakland Raiders' Aldon Smith For One Year The NFL dropped the hammer after Smith's fifth arrest in three years.\n",
      "            \n",
      "            Top 2 News Category: SPORTS\n",
      "            Top 2 News Details: Aldon Smith -- 49ers Superstar Arrested At LAX ... Allegedly Yelled 'Bomb' In Airport [Video] | TMZ.com San Francisco 49ers superstar Aldon Smith was just arrested at LAX after allegedly yelling \"bomb\" in the airport terminal\n",
      "            \n",
      "            Top 3 News Category: SPORTS\n",
      "            Top 3 News Details: Aldon Smith Stabbed Report: 49ers Say Star Linebacker Recovering From 'Minor' Injuries More from the Associated Press: SAN FRANCISCO (AP) — The San Francisco 49ers say linebacker Aldon Smith sustained minor injuries\n",
      "            \n",
      "        \n",
      "\n",
      "        Requested News Category: SPORTS\n",
      "        Requested News Details: Giants Over Patriots, Jets Over Colts Among  Most Improbable Super Bowl Upsets Of All Time (VIDEOS) Leading up to Super Bowl XLVI, the most talked about game could end up being one that occurred a few years ago. After all\n",
      "        ----------\n",
      "        \n",
      "            Top 1 News Category: SPORTS\n",
      "            Top 1 News Details: TODAY: The Dynasty vs. The Underdogs The New England Patriots will take on the Philadelphia Eagles in Super Bowl LII.\n",
      "            \n",
      "            Top 2 News Category: SPORTS\n",
      "            Top 2 News Details: Bennie and the Giants vs. the Mooch and the Jets My father was a wildly enthusiastic football fan, and during the season, Sunday afternoons in our house revolved around the NY Giants.  My dad had great disdain for the people who lived across the street because they liked that \"new\" team -- the Jets.\n",
      "            \n",
      "            Top 3 News Category: TECH\n",
      "            Top 3 News Details: Super Bowl 2012: Computers Predict That Winner Of Giants Vs. Patriots Will Be... With Super Bowl XLVI coming up on Sunday, February 5, the players of both the New York Giants and the New England Patriots\n",
      "            \n",
      "        \n",
      "\n",
      "        Requested News Category: SPORTS\n",
      "        Requested News Details: Maria Sharapova Stunned By Victoria Azarenka In Australian Open Final Afterward, Azarenka, more effusive with the press than normal, credited her coach of two years, Sam Sumyk, for his patient\n",
      "        ----------\n",
      "        \n",
      "            Top 1 News Category: SPORTS\n",
      "            Top 1 News Details: Watch Maria Sharapova Feel All The Feels After Upset Win At U.S. Open It was her first Grand Slam match since her drug suspension.\n",
      "            \n",
      "            Top 2 News Category: SPORTS\n",
      "            Top 2 News Details: Victoria Azarenka Freaked Out On Court When She Found Out The Broncos Won The tennis player seemed more excited about Peyton than advancing in the Australian Open.\n",
      "            \n",
      "            Top 3 News Category: SPORTS\n",
      "            Top 3 News Details: Victoria Azarenka Calls Out The Most Tired Double Standard In Tennis \"Let's put aside the noise and how she looks.\"\n",
      "            \n",
      "        \n",
      "\n",
      "        Requested News Category: TECH\n",
      "        Requested News Details: RIM CEO Thorsten Heins' 'Significant' Plans For BlackBerry Verizon Wireless and AT&T are already promoting LTE devices including smartphones and tablets from RIM's rivals. RIM's first\n",
      "        ----------\n",
      "        \n",
      "            Top 1 News Category: TECH\n",
      "            Top 1 News Details: BlackBerry Killing Off Classic Phone As It Moves Away From Handhelds Bad news for BlackBerry fans.\n",
      "            \n",
      "            Top 2 News Category: TECH\n",
      "            Top 2 News Details: New Google Phone -- Codename 'X Phone' -- Is Being Developed To Take On Apple, Samsung: WSJ The Journal quoted the people saying that Motorola is working on two fronts: devices that will be sold by carrier partner\n",
      "            \n",
      "            Top 3 News Category: TECH\n",
      "            Top 3 News Details: BlackBerry Maker RIM Reportedly Considers Splitting Off Smartphone Business (Reporting by Kylie MacLellan; Editing by Catherine Evans) An alternative option would be to keep the company together but\n",
      "            \n",
      "        \n",
      "\n",
      "        Requested News Category: TECH\n",
      "        Requested News Details: Watch The Top 9 YouTube Videos Of The Week If you're looking to see the most popular YouTube videos of the week, look no further. Once again, we're bringing you the\n",
      "        ----------\n",
      "        \n",
      "            Top 1 News Category: TECH\n",
      "            Top 1 News Details: Watch The Top 9 YouTube Videos Of The Week If you're looking to see the most popular YouTube videos of the week, look no further. Once again, we're bringing you the\n",
      "            \n",
      "            Top 2 News Category: TECH\n",
      "            Top 2 News Details: Watch The Top 9 YouTube Videos Of The Week If you're looking to see the most popular YouTube videos of the week, look no further. Once again, we're bringing you the\n",
      "            \n",
      "            Top 3 News Category: TECH\n",
      "            Top 3 News Details: Watch The Top 9 YouTube Videos Of The Week If you're looking to see the most popular YouTube videos of the week, look no further. Once again, we're bringing you the\n",
      "            \n",
      "        \n",
      "\n",
      "        Requested News Category: TECH\n",
      "        Requested News Details: First White House Chief Technology Officer, Aneesh Chopra, Steps Down He was appointed with a fair bit of fanfare as the United States' first Chief Technology Officer back in May of 2009, but\n",
      "        ----------\n",
      "        \n",
      "            Top 1 News Category: POLITICS\n",
      "            Top 1 News Details: White House Discussing Plans To Replace HHS Sec. Alex Azar: Reports Recent reports have described a stifled relationship between Azar and President Trump. Now, Azar may be on the cutting block.\n",
      "            \n",
      "            Top 2 News Category: POLITICS\n",
      "            Top 2 News Details: White House Eliminates Cyber Czar Post After First Appointee Leaves “I don’t see how getting rid of the top cyber official in the White House does anything to make our country safer from cyber threats,” Mark Warner, the top Democrat on the Senate Intelligence committee, said.\n",
      "            \n",
      "            Top 3 News Category: POLITICS\n",
      "            Top 3 News Details: Yes We Can. Let's! On Friday, April 17, 2015, the recently appointed United States Chief Technology Officer, Megan Smith, organized a gathering of tech-focused community organizers at the White House (or, more accurately, the Eisenhower Executive Office Building).\n",
      "            \n",
      "        \n",
      "\n",
      "        Requested News Category: TECH\n",
      "        Requested News Details: Web Wars These \"Web Wars\" threaten to rage on for some considerable time yet -- particularly when Congress tries to reintroduce SOPA by the back door on a Friday evening when no one is looking.\n",
      "        ----------\n",
      "        \n",
      "            Top 1 News Category: POLITICS\n",
      "            Top 1 News Details: Tech Giants, Democrats Go To Bat For Net Neutrality Rules In Court \"Once again, big broadband is on the wrong side of history.\"\n",
      "            \n",
      "            Top 2 News Category: POLITICS\n",
      "            Top 2 News Details: How the Internet Was Saved... and Why the Battle Continues The battle continues. The history of media reform tells us that if we ignore core systemic problems like the power of monopolies and the lack of structural diversity, important protections like net neutrality can be short-lived.\n",
      "            \n",
      "            Top 3 News Category: TECH\n",
      "            Top 3 News Details: The Battle for the Future of the Internet? Singing from the same songbook as Web juggernaut Google, the U.S. government is strongly opposed to any changes to the International Telecommunication Regulations, arguing the Internet has nothing to do with 'traditional' telecommunications -- and that freedom is at stake.\n",
      "            \n",
      "        \n",
      "\n",
      "        Requested News Category: TECH\n",
      "        Requested News Details: Google+ Now Open for Teens With Some Safeguards For the most part, teens' experience on Google+ will be just like adults, but there are some special safeguards for users under 18. Google didn't put any major breaks on teens -- it's giving them freedom, but it did make some default settings for teens more restrictive.\n",
      "        ----------\n",
      "        \n",
      "            Top 1 News Category: BUSINESS\n",
      "            Top 1 News Details: Google Shutters Google+ After Security Flaw Exposed Data Of At Least 500,000 Users The company had known about the glitch since March but failed to inform the public.\n",
      "            \n",
      "            Top 2 News Category: TECH\n",
      "            Top 2 News Details: WATCH: Are Teenagers Over Facebook? While they're not thrilled with Facebook, teenagers aren't checking out completely. They're just dividing their time among other social networks, like Twitter and Instagram.\n",
      "            \n",
      "            Top 3 News Category: PARENTING\n",
      "            Top 3 News Details: Facebook Lowering the Age of Admittance? No Thank You! As a psychologist, mother and someone who cares about kids' well-being, I suggest we collectively resist allowing pre-teens to access Facebook, regardless of what the company decides.\n",
      "            \n",
      "        \n",
      "\n",
      "        Requested News Category: TECH\n",
      "        Requested News Details: Good Games -- Is It possible? I don't think people who play Zynga games are bad. Just like I don't think the grandma in Vegas is bad. They're just sad.\n",
      "        ----------\n",
      "        \n",
      "            Top 1 News Category: MEDIA\n",
      "            Top 1 News Details: How Will Video Games Fare In The Age Of Trump? Note: This entry is coauthored with Patrick Markey, Professor of Psychology at Villanova University and coauthor of our book\n",
      "            \n",
      "            Top 2 News Category: TECH\n",
      "            Top 2 News Details: Not All Video Games Are Bad For Us Video games. A time-honored way to put off homework, spend time with friends, and rewire our brains.\n",
      "            \n",
      "            Top 3 News Category: TECH\n",
      "            Top 3 News Details: ZNGA: Zynga Stock Drops On Weak Pivot To Mobile; Loss Of Casual Gamers Turns Serious Monthly-paying players rose to 4.1 million in the second quarter from 3.5 million. That number would have declined had it\n",
      "            \n",
      "        \n"
     ]
    }
   ],
   "execution_count": 27
  }
 ],
 "metadata": {
  "kernelspec": {
   "display_name": "Python 3",
   "language": "python",
   "name": "python3"
  },
  "language_info": {
   "codemirror_mode": {
    "name": "ipython",
    "version": 2
   },
   "file_extension": ".py",
   "mimetype": "text/x-python",
   "name": "python",
   "nbconvert_exporter": "python",
   "pygments_lexer": "ipython2",
   "version": "2.7.6"
  }
 },
 "nbformat": 4,
 "nbformat_minor": 5
}
