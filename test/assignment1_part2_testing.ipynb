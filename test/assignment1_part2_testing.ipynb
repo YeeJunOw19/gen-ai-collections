{
 "cells": [
  {
   "metadata": {},
   "cell_type": "markdown",
   "source": [
    "## MLDS 424 GenAI: Assignment 1 Part 2\n",
    "\n",
    "This notebook will run through the RAGs and compare their results. A list of 5 questions will be used for testing all RAGs."
   ],
   "id": "420a9a8a900eb3ae"
  },
  {
   "metadata": {},
   "cell_type": "markdown",
   "source": "### Setup Imports and Variables",
   "id": "46f00a5b5efe25b7"
  },
  {
   "metadata": {
    "ExecuteTime": {
     "end_time": "2025-02-05T08:24:59.683808Z",
     "start_time": "2025-02-05T08:24:52.633398Z"
    }
   },
   "cell_type": "code",
   "source": [
    "from src.rag_pipeline import rag_chaining\n",
    "\n",
    "# Set up global variables that are used in almost everywhere\n",
    "LLM_MODEL_NAME = \"gpt-3.5-turbo\"\n",
    "LLM_PROMPT_TEMPLATE = \"rlm/rag-prompt\"\n",
    "RERANKING_MODEL = \"cross-encoder/ms-marco-MiniLM-L-6-v2\"\n",
    "PINECONE_INDEX = \"news-index\"\n",
    "TEXT_ENCODER_MODEL_NAME = \"sentence-transformers/all-mpnet-base-v2\"\n",
    "MOTHERDUCK_DATABASE = \"mlds-database\"\n",
    "MOTHERDUCK_SCHEMA = \"gen-ai\"\n",
    "MOTHERDUCK_TABLE = \"RawNewsCategory\"\n",
    "\n",
    "# Instantiate the RAG chain object\n",
    "rag = rag_chaining.RagInstance(\n",
    "    llm_model_name=LLM_MODEL_NAME,\n",
    "    llm_repo_name=LLM_PROMPT_TEMPLATE,\n",
    "    reranker_model=RERANKING_MODEL,\n",
    "    pinecone_index_name=PINECONE_INDEX,\n",
    "    text_encoder_model=TEXT_ENCODER_MODEL_NAME,\n",
    "    md_table_name=MOTHERDUCK_TABLE,\n",
    "    md_schema_name=MOTHERDUCK_SCHEMA,\n",
    "    md_database_name=MOTHERDUCK_DATABASE\n",
    ")"
   ],
   "id": "5f1a2164ff5e514c",
   "outputs": [
    {
     "name": "stderr",
     "output_type": "stream",
     "text": [
      "/Users/yeejunow/Documents/Northwestern University/MLDS_424_GenAI/Project/genai_env/lib/python3.12/site-packages/langsmith/client.py:253: LangSmithMissingAPIKeyWarning: API key must be provided when using hosted LangSmith API\n",
      "  warnings.warn(\n"
     ]
    }
   ],
   "execution_count": 1
  },
  {
   "metadata": {},
   "cell_type": "markdown",
   "source": "### Testing Question 1\n",
   "id": "526d637e571dd24b"
  },
  {
   "metadata": {
    "ExecuteTime": {
     "end_time": "2025-02-05T08:28:47.341232Z",
     "start_time": "2025-02-05T08:28:39.478218Z"
    }
   },
   "cell_type": "code",
   "source": [
    "question_1 = \"Can you provide me an update on the Russia and Ukraine war?\"\n",
    "print(\n",
    "    f\"\"\"\n",
    "    Question Asked: {question_1}\n",
    "    ---\n",
    "\n",
    "    Original LLM: {rag.vanilla_llm(question_1)}\\n\n",
    "    Simple RAG: {rag.basic_rag(question_1)}\\n\n",
    "    RAG with HyDE: {rag.hyde_rag_implementation(question_1)}\\n\n",
    "    RAG with Reranking: {rag.reranking_rag_implementation(question_1)}\\n\n",
    "    \"\"\"\n",
    ")"
   ],
   "id": "de5710fed01d7a87",
   "outputs": [
    {
     "data": {
      "text/plain": [
       "Batches:   0%|          | 0/1 [00:00<?, ?it/s]"
      ],
      "application/vnd.jupyter.widget-view+json": {
       "version_major": 2,
       "version_minor": 0,
       "model_id": "c376ecdd2b364e238bccbc7751be30b7"
      }
     },
     "metadata": {},
     "output_type": "display_data"
    },
    {
     "data": {
      "text/plain": [
       "Batches:   0%|          | 0/1 [00:00<?, ?it/s]"
      ],
      "application/vnd.jupyter.widget-view+json": {
       "version_major": 2,
       "version_minor": 0,
       "model_id": "26c93872662947f68e0af1b78d7a8b36"
      }
     },
     "metadata": {},
     "output_type": "display_data"
    },
    {
     "data": {
      "text/plain": [
       "Batches:   0%|          | 0/1 [00:00<?, ?it/s]"
      ],
      "application/vnd.jupyter.widget-view+json": {
       "version_major": 2,
       "version_minor": 0,
       "model_id": "9c98fa8470f941868c101e4b8850a2cc"
      }
     },
     "metadata": {},
     "output_type": "display_data"
    },
    {
     "name": "stdout",
     "output_type": "stream",
     "text": [
      "\n",
      "    Question Asked: Can you provide me an update on the Russia and Ukraine war?\n",
      "    ---\n",
      "\n",
      "    Original LLM: As of my last update, the conflict between Russia and Ukraine continues to escalate in various regions of eastern Ukraine. Both sides have reported casualties and violations of the ceasefire agreements. Additionally, there have been reports of increased military activities and movements along the border between Russia and Ukraine, raising concerns about the possibility of a full-scale invasion by Russia.\n",
      "\n",
      "Efforts by international actors, including the United States and European Union, continue to push for a peaceful resolution to the conflict through diplomatic means. However, tensions remain high, and the situation remains volatile. It is important to stay updated through reliable news sources for the latest developments in the ongoing conflict.\n",
      "\n",
      "    Simple RAG: The Russian invasion of Ukraine began on Feb. 24, with Ukraine reporting that 9,000 of its troops have been killed since then. Putin falsely portrayed the fighting as a battle against Nazism. The situation does not appear to have a clear end in sight, with Putin's initial aims of easily changing the Ukrainian government now out of reach.\n",
      "\n",
      "    RAG with HyDE: The Russian invasion of Ukraine began on Feb. 24, resulting in the death of around 9,000 Ukrainian troops. Ukrainian forces are fighting to resist Russian advances in the south and east, particularly in the industrial Donbas region. Despite intense fighting, Ukraine has rejected Russian demands for surrender in Mariupol.\n",
      "\n",
      "    RAG with Reranking: The Russian invasion of Ukraine began on February 24, and Ukraine has reported that 9,000 of its troops have been killed since then. Despite large advantages in firepower, no end is in sight for the war, and Ukrainian President Zelenskyy has announced that the Russian offensive in eastern Ukraine has begun.\n",
      "\n",
      "    \n"
     ]
    }
   ],
   "execution_count": 3
  },
  {
   "metadata": {},
   "cell_type": "markdown",
   "source": "### Testing Question 2",
   "id": "bf75dcbef063e659"
  },
  {
   "metadata": {
    "ExecuteTime": {
     "end_time": "2025-02-05T08:33:22.605284Z",
     "start_time": "2025-02-05T08:33:12.677315Z"
    }
   },
   "cell_type": "code",
   "source": [
    "question_2 = \"When did Elon Musk buy Twitter and did he rename it to something else?\"\n",
    "print(\n",
    "    f\"\"\"\n",
    "    Question Asked: {question_2}\n",
    "    ---\n",
    "\n",
    "    Original LLM: {rag.vanilla_llm(question_2)}\\n\n",
    "    Simple RAG: {rag.basic_rag(question_2)}\\n\n",
    "    RAG with HyDE: {rag.hyde_rag_implementation(question_2)}\\n\n",
    "    RAG with Reranking: {rag.reranking_rag_implementation(question_2)}\\n\n",
    "    \"\"\"\n",
    ")"
   ],
   "id": "6cf863566f5e16c5",
   "outputs": [
    {
     "data": {
      "text/plain": [
       "Batches:   0%|          | 0/1 [00:00<?, ?it/s]"
      ],
      "application/vnd.jupyter.widget-view+json": {
       "version_major": 2,
       "version_minor": 0,
       "model_id": "e4058c5ea4ee4b758274d8e10c1180df"
      }
     },
     "metadata": {},
     "output_type": "display_data"
    },
    {
     "data": {
      "text/plain": [
       "Batches:   0%|          | 0/1 [00:00<?, ?it/s]"
      ],
      "application/vnd.jupyter.widget-view+json": {
       "version_major": 2,
       "version_minor": 0,
       "model_id": "0d462d1af7be4ca4b658b6196bdfc777"
      }
     },
     "metadata": {},
     "output_type": "display_data"
    },
    {
     "data": {
      "text/plain": [
       "Batches:   0%|          | 0/1 [00:00<?, ?it/s]"
      ],
      "application/vnd.jupyter.widget-view+json": {
       "version_major": 2,
       "version_minor": 0,
       "model_id": "85e0a99d3b56440a992ab68be35c4d09"
      }
     },
     "metadata": {},
     "output_type": "display_data"
    },
    {
     "name": "stdout",
     "output_type": "stream",
     "text": [
      "\n",
      "    Question Asked: When did Elon Musk buy Twitter and did he rename it to something else?\n",
      "    ---\n",
      "\n",
      "    Original LLM: Elon Musk did not buy Twitter and has not renamed it to something else. This is a false statement. Elon Musk is the CEO of SpaceX and Tesla, but he does not own Twitter.\n",
      "\n",
      "    Simple RAG: Elon Musk did not buy Twitter.\n",
      "\n",
      "    RAG with HyDE: Elon Musk did not buy Twitter.\n",
      "\n",
      "    RAG with Reranking: Elon Musk made an offer to buy Twitter in a filing. He did not officially purchase Twitter, nor did he rename it.\n",
      "\n",
      "    \n"
     ]
    }
   ],
   "execution_count": 5
  },
  {
   "metadata": {},
   "cell_type": "markdown",
   "source": "### Testing Question 3",
   "id": "5dc22b76219c45da"
  },
  {
   "metadata": {
    "ExecuteTime": {
     "end_time": "2025-02-05T08:38:03.797977Z",
     "start_time": "2025-02-05T08:37:54.229733Z"
    }
   },
   "cell_type": "code",
   "source": [
    "question_3 = \"Can you tell me what variants of COVID virus are we seeing now?\"\n",
    "print(\n",
    "    f\"\"\"\n",
    "    Question Asked: {question_3}\n",
    "    ---\n",
    "\n",
    "    Original LLM: {rag.vanilla_llm(question_3)}\\n\n",
    "    Simple RAG: {rag.basic_rag(question_3)}\\n\n",
    "    RAG with HyDE: {rag.hyde_rag_implementation(question_3)}\\n\n",
    "    RAG with Reranking: {rag.reranking_rag_implementation(question_3)}\\n\n",
    "    \"\"\"\n",
    ")"
   ],
   "id": "369eaa6514b618d6",
   "outputs": [
    {
     "data": {
      "text/plain": [
       "Batches:   0%|          | 0/1 [00:00<?, ?it/s]"
      ],
      "application/vnd.jupyter.widget-view+json": {
       "version_major": 2,
       "version_minor": 0,
       "model_id": "a62dffeaffbe4e3ab78e41a06d7d927f"
      }
     },
     "metadata": {},
     "output_type": "display_data"
    },
    {
     "data": {
      "text/plain": [
       "Batches:   0%|          | 0/1 [00:00<?, ?it/s]"
      ],
      "application/vnd.jupyter.widget-view+json": {
       "version_major": 2,
       "version_minor": 0,
       "model_id": "17c1624da39b44a28e8a556eb291075b"
      }
     },
     "metadata": {},
     "output_type": "display_data"
    },
    {
     "data": {
      "text/plain": [
       "Batches:   0%|          | 0/1 [00:00<?, ?it/s]"
      ],
      "application/vnd.jupyter.widget-view+json": {
       "version_major": 2,
       "version_minor": 0,
       "model_id": "57a70fef6a124c158a5fe4b01a4be87d"
      }
     },
     "metadata": {},
     "output_type": "display_data"
    },
    {
     "name": "stdout",
     "output_type": "stream",
     "text": [
      "\n",
      "    Question Asked: Can you tell me what variants of COVID virus are we seeing now?\n",
      "    ---\n",
      "\n",
      "    Original LLM: As of the latest available information, there are several variants of the COVID-19 virus that have been identified around the world. Some of the prominent variants include:\n",
      "\n",
      "1. Alpha (B.1.1.7) - First identified in the UK.\n",
      "2. Beta (B.1.351) - First identified in South Africa.\n",
      "3. Gamma (P.1) - First identified in Brazil.\n",
      "4. Delta (B.1.617.2) - First identified in India.\n",
      "\n",
      "These variants have shown to have different transmission rates and may affect the efficacy of vaccines to varying degrees. Public health officials are closely monitoring these variants and their potential impact on the COVID-19 pandemic.\n",
      "\n",
      "    Simple RAG: The variants of the COVID virus currently being seen include the Omicron variant, which has caused concern among health officials. Other variants are not specifically mentioned in the provided context. The Omicron variant was identified in South Africa two weeks ago.\n",
      "\n",
      "    RAG with HyDE: The variants of the COVID virus now being seen include the Omicron variant, with officials sharing both optimism and concern regarding its effects. Some K-pop group members have been diagnosed with COVID-19, exhibiting varying levels of symptoms. Beijing has been testing its residents for COVID-19 amid concerns of a possible outbreak, following a zero-COVID approach to prevent further spread.\n",
      "\n",
      "    RAG with Reranking: The variant of COVID-19 that has been recently identified is Omicron. Dr. Anthony Fauci mentioned that the variant does not appear to have a great degree of severity. Authorities in various countries are taking measures such as mass testing to curb the potential spread of the new variant.\n",
      "\n",
      "    \n"
     ]
    }
   ],
   "execution_count": 6
  },
  {
   "metadata": {},
   "cell_type": "markdown",
   "source": "### Testing Question 4",
   "id": "cd60cb5078aaac36"
  },
  {
   "metadata": {
    "ExecuteTime": {
     "end_time": "2025-02-05T08:40:03.417185Z",
     "start_time": "2025-02-05T08:39:59.142806Z"
    }
   },
   "cell_type": "code",
   "source": [
    "question_4 = \"Can you provide me an update on the progress of the latest FIFA World Cup?\"\n",
    "print(\n",
    "    f\"\"\"\n",
    "    Question Asked: {question_4}\n",
    "    ---\n",
    "\n",
    "    Original LLM: {rag.vanilla_llm(question_4)}\\n\n",
    "    Simple RAG: {rag.basic_rag(question_4)}\\n\n",
    "    RAG with HyDE: {rag.hyde_rag_implementation(question_4)}\\n\n",
    "    RAG with Reranking: {rag.reranking_rag_implementation(question_4)}\\n\n",
    "    \"\"\"\n",
    ")"
   ],
   "id": "b6d517c3481d0db7",
   "outputs": [
    {
     "data": {
      "text/plain": [
       "Batches:   0%|          | 0/1 [00:00<?, ?it/s]"
      ],
      "application/vnd.jupyter.widget-view+json": {
       "version_major": 2,
       "version_minor": 0,
       "model_id": "69460caae4f74fd580cf02f131650f91"
      }
     },
     "metadata": {},
     "output_type": "display_data"
    },
    {
     "data": {
      "text/plain": [
       "Batches:   0%|          | 0/1 [00:00<?, ?it/s]"
      ],
      "application/vnd.jupyter.widget-view+json": {
       "version_major": 2,
       "version_minor": 0,
       "model_id": "bb421bd6d9904a448b70233305d42f53"
      }
     },
     "metadata": {},
     "output_type": "display_data"
    },
    {
     "data": {
      "text/plain": [
       "Batches:   0%|          | 0/1 [00:00<?, ?it/s]"
      ],
      "application/vnd.jupyter.widget-view+json": {
       "version_major": 2,
       "version_minor": 0,
       "model_id": "e359c8b68f3c474daa9b760c58439d7d"
      }
     },
     "metadata": {},
     "output_type": "display_data"
    },
    {
     "name": "stdout",
     "output_type": "stream",
     "text": [
      "\n",
      "    Question Asked: Can you provide me an update on the progress of the latest FIFA World Cup?\n",
      "    ---\n",
      "\n",
      "    Original LLM: I'm an AI and do not have real-time information. Please check the latest news on the FIFA World Cup from a reliable source like the official FIFA website or sports news outlets.\n",
      "\n",
      "    Simple RAG: I don't know.\n",
      "\n",
      "    RAG with HyDE: I'm sorry, I don't have information on the progress of the latest FIFA World Cup.\n",
      "\n",
      "    RAG with Reranking: FIFA is facing pressure from European soccer federations to support a human rights campaign against discrimination at the World Cup. There have been negotiations between the NFL and NFL Players Association regarding a discipline settlement for Cleveland Browns quarterback Deshaun Watson. Carlos Arthur Nuzman was sentenced to 30 years for corruption related to the Rio 2016 Olympics.\n",
      "\n",
      "    \n"
     ]
    }
   ],
   "execution_count": 8
  },
  {
   "metadata": {},
   "cell_type": "markdown",
   "source": "### Testing Question 5",
   "id": "62a3cb680be41d8a"
  },
  {
   "metadata": {
    "ExecuteTime": {
     "end_time": "2025-02-05T08:42:03.725055Z",
     "start_time": "2025-02-05T08:41:56.455716Z"
    }
   },
   "cell_type": "code",
   "source": [
    "question_5 = \"Can you provide me an update, to your knowledge, of how Queen Elizabeth is doing?\"\n",
    "print(\n",
    "    f\"\"\"\n",
    "    Question Asked: {question_5}\n",
    "    ---\n",
    "\n",
    "    Original LLM: {rag.vanilla_llm(question_5)}\\n\n",
    "    Simple RAG: {rag.basic_rag(question_5)}\\n\n",
    "    RAG with HyDE: {rag.hyde_rag_implementation(question_5)}\\n\n",
    "    RAG with Reranking: {rag.reranking_rag_implementation(question_5)}\\n\n",
    "    \"\"\"\n",
    ")"
   ],
   "id": "b97f1824d859fe0c",
   "outputs": [
    {
     "data": {
      "text/plain": [
       "Batches:   0%|          | 0/1 [00:00<?, ?it/s]"
      ],
      "application/vnd.jupyter.widget-view+json": {
       "version_major": 2,
       "version_minor": 0,
       "model_id": "6cf990cd23364256b9065ec4accd9faa"
      }
     },
     "metadata": {},
     "output_type": "display_data"
    },
    {
     "data": {
      "text/plain": [
       "Batches:   0%|          | 0/1 [00:00<?, ?it/s]"
      ],
      "application/vnd.jupyter.widget-view+json": {
       "version_major": 2,
       "version_minor": 0,
       "model_id": "02e877e082fe47469466cd2dc51ebc1b"
      }
     },
     "metadata": {},
     "output_type": "display_data"
    },
    {
     "data": {
      "text/plain": [
       "Batches:   0%|          | 0/1 [00:00<?, ?it/s]"
      ],
      "application/vnd.jupyter.widget-view+json": {
       "version_major": 2,
       "version_minor": 0,
       "model_id": "2ec95679bf824da899ae63cf9ddf2d5f"
      }
     },
     "metadata": {},
     "output_type": "display_data"
    },
    {
     "name": "stdout",
     "output_type": "stream",
     "text": [
      "\n",
      "    Question Asked: Can you provide me an update, to your knowledge, of how Queen Elizabeth is doing?\n",
      "    ---\n",
      "\n",
      "    Original LLM: As of my last update, Queen Elizabeth II is in good health and continues to fulfill her royal duties as the reigning monarch of the United Kingdom. Additionally, she received her COVID-19 vaccination earlier this year along with other members of the royal family. However, please note that the situation may have changed since my last information update, so I recommend checking the latest news for the most up-to-date information about Queen Elizabeth's current status.\n",
      "\n",
      "    Simple RAG: Queen Elizabeth has tested positive for COVID-19 and is currently experiencing cold-like symptoms, receiving medical attention. Due to a sprained back, she missed the Remembrance Sunday service but continues to be updated on the situation. Brian May, the Queen's guitarist, has also shared his experience with COVID-19, warning others to be careful.\n",
      "\n",
      "    RAG with HyDE: Queen Elizabeth II tested positive for COVID-19 and is experiencing cold-like symptoms. She is currently receiving medical attention for her condition. Additionally, due to a sprained back, she missed the Remembrance Sunday service.\n",
      "\n",
      "    RAG with Reranking: Queen Elizabeth has tested positive for COVID-19 and is experiencing cold-like symptoms, receiving ongoing medical attention. She has also had to cancel engagements due to a back sprain, but previously held a meeting with Prime Minister Boris Johnson. U.S. President Joe Biden expressed condolences to the royal family following her death.\n",
      "\n",
      "    \n"
     ]
    }
   ],
   "execution_count": 9
  },
  {
   "metadata": {},
   "cell_type": "markdown",
   "source": [
    "### Comment\n",
    "\n",
    "The nature of the 5 questions that I have tested out are \"latest news\" in nature. The runs with just using only the LLM models tend to produce generic answers or outdated answers . For example, in the questions about COVID variants and the Russia-Ukraine war, the LLM without context gives generic answers on things that have already happened in the past, but no more specific details about had happened between 2021 and 2022.\n",
    "\n",
    "A more specific style question where I was asking about a more specific event that had happened between 2021 and 2022, the LLM without context simply could not answer or it simply provided the wrong answer because it does not have the knowledge about the event at all. Take Elon Musk buying Twitter as an example, from the new dataset provided later on in RAG, we know that Elon Musk is in the negotiation phase in buying Twitter, but the vanilla LLM just has \"no\" as answer.\n",
    "\n",
    "The Simple RAG pipeline and the RAG with HyDE pipeline performed similarly in my test. Both pipelines provide a form of context of what has happened recently pertaining to the question that I had posted, but HyDE first generates a hypothetical document from vanilla LLM, then uses that new question to perform similarity search. While questions where I was asking about updates on FIFA World Cup and Elon Musk buying Twitter did not produce more satisfying answers, they did provide a more up-to-date and rich answers to questions on COVID-19, Queen Elizabeth, and the Russia-Ukraine war. Now, these two pipelines are starting to pick up news and updates that had happened recently.\n",
    "\n",
    "The problem with the previous two methods still lies within how my questions are formulated. My questions are formulated almost in the sense that I want the absolute latest news and updates of what is happening. So, not surprisingly, adding reranking into the RAG pipeline seems to produce the best results. Now, the LLM recognizes that Elon Musk is negotiating and made an offer to buy Twitter. It also recognizes that FIFA is facing some pressure from European soccer federations on human rights. Furthermore, it also picked up the fact that Omicron was the latest COVID-19 variant at the time, and that Queen Elizabeth has sadly passed away. Re-ranking takes similar vectors / news, and reranked them one more time based on a different and more refined method of similarity calculation."
   ],
   "id": "e2cb07c24714b4eb"
  }
 ],
 "metadata": {
  "kernelspec": {
   "display_name": "Python 3",
   "language": "python",
   "name": "python3"
  },
  "language_info": {
   "codemirror_mode": {
    "name": "ipython",
    "version": 2
   },
   "file_extension": ".py",
   "mimetype": "text/x-python",
   "name": "python",
   "nbconvert_exporter": "python",
   "pygments_lexer": "ipython2",
   "version": "2.7.6"
  }
 },
 "nbformat": 4,
 "nbformat_minor": 5
}
